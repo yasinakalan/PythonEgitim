{
 "cells": [
  {
   "cell_type": "code",
   "execution_count": 1,
   "metadata": {},
   "outputs": [],
   "source": [
    "# pip install virtualenv --> Sanal ortam oluşturma kütüphanesini yükler.\n",
    "# pip list --> yüklü paketleri gösterir.\n",
    "# virtualenv SanalOrtam1 --> Bulunulan konumda SanalOrtam1 adında yeni bir sanal ortam oluşturur.\n",
    "# SanalOrtam1\\Scripts\\activate.bat --> SanalOrtam1 sanal ortamına geçiş yapılır.\n",
    "# deactivate --> Sanal ortamdan çıkar."
   ]
  },
  {
   "cell_type": "code",
   "execution_count": null,
   "metadata": {},
   "outputs": [],
   "source": []
  }
 ],
 "metadata": {
  "kernelspec": {
   "display_name": "Python 3",
   "language": "python",
   "name": "python3"
  },
  "language_info": {
   "codemirror_mode": {
    "name": "ipython",
    "version": 3
   },
   "file_extension": ".py",
   "mimetype": "text/x-python",
   "name": "python",
   "nbconvert_exporter": "python",
   "pygments_lexer": "ipython3",
   "version": "3.12.3"
  }
 },
 "nbformat": 4,
 "nbformat_minor": 2
}
