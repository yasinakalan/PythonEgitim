{
 "cells": [
  {
   "cell_type": "code",
   "execution_count": 1,
   "metadata": {},
   "outputs": [],
   "source": [
    "# REGRESYON & SINIFLANDIRMA"
   ]
  },
  {
   "cell_type": "code",
   "execution_count": 2,
   "metadata": {},
   "outputs": [],
   "source": [
    "# REGRESYON TEMEL FORMÜLÜ ==> Y = A*X_1 + B*X_2 + C + e (MULTILINEAR REGRESYON MODÜLÜ)\n",
    "# BURADA BİR DAĞILIM İÇERİSİNE ÇİZİLEN EN UYGUN DOĞRUNUN DENKLEMİ BULUNUR.\n",
    "\n",
    "# Y --> HEDEF, BAĞIMLI DEĞİŞKEN\n",
    "# X_1, X_2 --> ÖZELLİKLER, BAĞIMSIZ DEĞİŞKENLER\n",
    "# C --> SABİT\n",
    "# e --> HATA\n",
    "# A, B, C --> KATSAYILAR"
   ]
  }
 ],
 "metadata": {
  "kernelspec": {
   "display_name": "Python 3",
   "language": "python",
   "name": "python3"
  },
  "language_info": {
   "codemirror_mode": {
    "name": "ipython",
    "version": 3
   },
   "file_extension": ".py",
   "mimetype": "text/x-python",
   "name": "python",
   "nbconvert_exporter": "python",
   "pygments_lexer": "ipython3",
   "version": "3.12.3"
  }
 },
 "nbformat": 4,
 "nbformat_minor": 2
}
