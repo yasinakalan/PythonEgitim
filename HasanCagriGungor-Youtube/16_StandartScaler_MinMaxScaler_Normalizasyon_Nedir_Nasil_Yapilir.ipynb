{
 "cells": [
  {
   "cell_type": "code",
   "execution_count": 1,
   "metadata": {},
   "outputs": [],
   "source": [
    "import pandas as pd\n",
    "import numpy as np\n",
    "from sklearn.preprocessing import StandardScaler, MinMaxScaler"
   ]
  },
  {
   "cell_type": "code",
   "execution_count": 2,
   "metadata": {},
   "outputs": [
    {
     "data": {
      "text/html": [
       "<div>\n",
       "<style scoped>\n",
       "    .dataframe tbody tr th:only-of-type {\n",
       "        vertical-align: middle;\n",
       "    }\n",
       "\n",
       "    .dataframe tbody tr th {\n",
       "        vertical-align: top;\n",
       "    }\n",
       "\n",
       "    .dataframe thead th {\n",
       "        text-align: right;\n",
       "    }\n",
       "</style>\n",
       "<table border=\"1\" class=\"dataframe\">\n",
       "  <thead>\n",
       "    <tr style=\"text-align: right;\">\n",
       "      <th></th>\n",
       "      <th>Model Name</th>\n",
       "      <th>Engine Type</th>\n",
       "      <th>HP or lbs thr ea engine</th>\n",
       "      <th>Max speed Knots</th>\n",
       "      <th>Rcmnd cruise Knots</th>\n",
       "      <th>Stall Knots dirty</th>\n",
       "      <th>Fuel gal/lbs</th>\n",
       "      <th>All eng rate of climb</th>\n",
       "      <th>Eng out rate of climb</th>\n",
       "      <th>Takeoff over 50ft</th>\n",
       "      <th>Landing over 50ft</th>\n",
       "      <th>Empty weight lbs</th>\n",
       "      <th>Length ft/in</th>\n",
       "      <th>Wing span ft/in</th>\n",
       "      <th>Range N.M.</th>\n",
       "      <th>Price</th>\n",
       "    </tr>\n",
       "  </thead>\n",
       "  <tbody>\n",
       "    <tr>\n",
       "      <th>0</th>\n",
       "      <td>100 Darter (S.L. Industries)</td>\n",
       "      <td>Piston</td>\n",
       "      <td>145</td>\n",
       "      <td>104</td>\n",
       "      <td>91.0</td>\n",
       "      <td>46.0</td>\n",
       "      <td>36</td>\n",
       "      <td>450</td>\n",
       "      <td>900.0</td>\n",
       "      <td>1300.0</td>\n",
       "      <td>2,050</td>\n",
       "      <td>1,180</td>\n",
       "      <td>25/3</td>\n",
       "      <td>37/5</td>\n",
       "      <td>370</td>\n",
       "      <td>1300000.0</td>\n",
       "    </tr>\n",
       "    <tr>\n",
       "      <th>1</th>\n",
       "      <td>7 CCM Champ</td>\n",
       "      <td>Piston</td>\n",
       "      <td>85</td>\n",
       "      <td>89</td>\n",
       "      <td>83.0</td>\n",
       "      <td>44.0</td>\n",
       "      <td>15</td>\n",
       "      <td>600</td>\n",
       "      <td>720.0</td>\n",
       "      <td>800.0</td>\n",
       "      <td>1,350</td>\n",
       "      <td>820</td>\n",
       "      <td>20/7</td>\n",
       "      <td>36/1</td>\n",
       "      <td>190</td>\n",
       "      <td>1230000.0</td>\n",
       "    </tr>\n",
       "    <tr>\n",
       "      <th>2</th>\n",
       "      <td>100 Darter (S.L. Industries)</td>\n",
       "      <td>Piston</td>\n",
       "      <td>90</td>\n",
       "      <td>90</td>\n",
       "      <td>78.0</td>\n",
       "      <td>37.0</td>\n",
       "      <td>19</td>\n",
       "      <td>650</td>\n",
       "      <td>475.0</td>\n",
       "      <td>850.0</td>\n",
       "      <td>1,300</td>\n",
       "      <td>810</td>\n",
       "      <td>21/5</td>\n",
       "      <td>35/0</td>\n",
       "      <td>210</td>\n",
       "      <td>1600000.0</td>\n",
       "    </tr>\n",
       "  </tbody>\n",
       "</table>\n",
       "</div>"
      ],
      "text/plain": [
       "                     Model Name Engine Type HP or lbs thr ea engine  \\\n",
       "0  100 Darter (S.L. Industries)      Piston                     145   \n",
       "1                   7 CCM Champ      Piston                      85   \n",
       "2  100 Darter (S.L. Industries)      Piston                      90   \n",
       "\n",
       "  Max speed Knots  Rcmnd cruise Knots  Stall Knots dirty  Fuel gal/lbs  \\\n",
       "0             104                91.0               46.0            36   \n",
       "1              89                83.0               44.0            15   \n",
       "2              90                78.0               37.0            19   \n",
       "\n",
       "  All eng rate of climb  Eng out rate of climb  Takeoff over 50ft  \\\n",
       "0                   450                  900.0             1300.0   \n",
       "1                   600                  720.0              800.0   \n",
       "2                   650                  475.0              850.0   \n",
       "\n",
       "  Landing over 50ft Empty weight lbs Length ft/in Wing span ft/in Range N.M.  \\\n",
       "0             2,050            1,180         25/3            37/5        370   \n",
       "1             1,350              820         20/7            36/1        190   \n",
       "2             1,300              810         21/5            35/0        210   \n",
       "\n",
       "       Price  \n",
       "0  1300000.0  \n",
       "1  1230000.0  \n",
       "2  1600000.0  "
      ]
     },
     "execution_count": 2,
     "metadata": {},
     "output_type": "execute_result"
    }
   ],
   "source": [
    "df = pd.read_csv(\"datasets/Plane Price.csv\")\n",
    "df.head(3)"
   ]
  },
  {
   "cell_type": "code",
   "execution_count": 3,
   "metadata": {},
   "outputs": [
    {
     "name": "stdout",
     "output_type": "stream",
     "text": [
      "<class 'pandas.core.frame.DataFrame'>\n",
      "RangeIndex: 517 entries, 0 to 516\n",
      "Data columns (total 16 columns):\n",
      " #   Column                   Non-Null Count  Dtype  \n",
      "---  ------                   --------------  -----  \n",
      " 0   Model Name               517 non-null    object \n",
      " 1   Engine Type              517 non-null    object \n",
      " 2   HP or lbs thr ea engine  517 non-null    object \n",
      " 3   Max speed Knots          497 non-null    object \n",
      " 4   Rcmnd cruise Knots       507 non-null    float64\n",
      " 5   Stall Knots dirty        502 non-null    float64\n",
      " 6   Fuel gal/lbs             517 non-null    int64  \n",
      " 7   All eng rate of climb    513 non-null    object \n",
      " 8   Eng out rate of climb    491 non-null    float64\n",
      " 9   Takeoff over 50ft        492 non-null    float64\n",
      " 10  Landing over 50ft        517 non-null    object \n",
      " 11  Empty weight lbs         516 non-null    object \n",
      " 12  Length ft/in             517 non-null    object \n",
      " 13  Wing span ft/in          517 non-null    object \n",
      " 14  Range N.M.               499 non-null    object \n",
      " 15  Price                    507 non-null    float64\n",
      "dtypes: float64(5), int64(1), object(10)\n",
      "memory usage: 64.8+ KB\n"
     ]
    }
   ],
   "source": [
    "df.info()"
   ]
  },
  {
   "cell_type": "code",
   "execution_count": 4,
   "metadata": {},
   "outputs": [],
   "source": [
    "df = df[['Rcmnd cruise Knots', 'Stall Knots dirty', 'Fuel gal/lbs', 'Eng out rate of climb', 'Price']]      # Veride çok fazla object olduğu için preprocessing ile uğraşmamak adına sayısal nesnelerden yeni bir dataframe oluşturuldu.\n",
    "df.head(3)\n",
    "df = df.dropna()        # NaN ifadeler olan verileri kaldırır."
   ]
  },
  {
   "cell_type": "code",
   "execution_count": 5,
   "metadata": {},
   "outputs": [],
   "source": [
    "y = df['Price']\n",
    "x = df.drop(columns=['Price'])"
   ]
  },
  {
   "cell_type": "code",
   "execution_count": 6,
   "metadata": {},
   "outputs": [],
   "source": [
    "# y için normalizasyon yapılmaz!\n",
    "\n",
    "# Bütün sütunlardaki verileri aynı aralıklara getirmek için normalizasyon yapılır.\n",
    "# Outlier(Aykırı değerler) etkisini azaltır.\n",
    "# Model performansı artar."
   ]
  },
  {
   "cell_type": "code",
   "execution_count": 7,
   "metadata": {},
   "outputs": [
    {
     "data": {
      "text/html": [
       "<div>\n",
       "<style scoped>\n",
       "    .dataframe tbody tr th:only-of-type {\n",
       "        vertical-align: middle;\n",
       "    }\n",
       "\n",
       "    .dataframe tbody tr th {\n",
       "        vertical-align: top;\n",
       "    }\n",
       "\n",
       "    .dataframe thead th {\n",
       "        text-align: right;\n",
       "    }\n",
       "</style>\n",
       "<table border=\"1\" class=\"dataframe\">\n",
       "  <thead>\n",
       "    <tr style=\"text-align: right;\">\n",
       "      <th></th>\n",
       "      <th>0</th>\n",
       "      <th>1</th>\n",
       "      <th>2</th>\n",
       "      <th>3</th>\n",
       "    </tr>\n",
       "  </thead>\n",
       "  <tbody>\n",
       "    <tr>\n",
       "      <th>0</th>\n",
       "      <td>-1.068341</td>\n",
       "      <td>-0.904960</td>\n",
       "      <td>-0.301214</td>\n",
       "      <td>-1.011179</td>\n",
       "    </tr>\n",
       "    <tr>\n",
       "      <th>1</th>\n",
       "      <td>-1.148585</td>\n",
       "      <td>-1.027513</td>\n",
       "      <td>-0.306625</td>\n",
       "      <td>-1.177365</td>\n",
       "    </tr>\n",
       "    <tr>\n",
       "      <th>2</th>\n",
       "      <td>-1.198738</td>\n",
       "      <td>-1.456449</td>\n",
       "      <td>-0.305594</td>\n",
       "      <td>-1.403563</td>\n",
       "    </tr>\n",
       "  </tbody>\n",
       "</table>\n",
       "</div>"
      ],
      "text/plain": [
       "          0         1         2         3\n",
       "0 -1.068341 -0.904960 -0.301214 -1.011179\n",
       "1 -1.148585 -1.027513 -0.306625 -1.177365\n",
       "2 -1.198738 -1.456449 -0.305594 -1.403563"
      ]
     },
     "execution_count": 7,
     "metadata": {},
     "output_type": "execute_result"
    }
   ],
   "source": [
    "ss = StandardScaler()       # StandardScaler normalizasyonu sütunlardaki verilerin aritmetik ortalamasını 0 a ve standart sapmasını 1 e eşitlicek şekilde verileri ölçekler.\n",
    "x2 = ss.fit_transform(x)\n",
    "x2      # dizi şeklinde verir.\n",
    "x2 = pd.DataFrame(x2)       # diziyi dataframe görünümüne almak için kullanılır.\n",
    "x2.head(3)"
   ]
  },
  {
   "cell_type": "code",
   "execution_count": 8,
   "metadata": {},
   "outputs": [
    {
     "data": {
      "text/plain": [
       "1.0010887319501067"
      ]
     },
     "execution_count": 8,
     "metadata": {},
     "output_type": "execute_result"
    }
   ],
   "source": [
    "x2[0].mean()        # 4.633974363652827e-17 =~ 0        (sıfırıncı sütunun aritmetik ortalaması sıfırdır.)\n",
    "x2[0].std()         # 1.0010887319501067 =~ 1           (sıfırıncı sütunun standart sapması birdir.)"
   ]
  },
  {
   "cell_type": "code",
   "execution_count": 9,
   "metadata": {},
   "outputs": [
    {
     "data": {
      "text/html": [
       "<div>\n",
       "<style scoped>\n",
       "    .dataframe tbody tr th:only-of-type {\n",
       "        vertical-align: middle;\n",
       "    }\n",
       "\n",
       "    .dataframe tbody tr th {\n",
       "        vertical-align: top;\n",
       "    }\n",
       "\n",
       "    .dataframe thead th {\n",
       "        text-align: right;\n",
       "    }\n",
       "</style>\n",
       "<table border=\"1\" class=\"dataframe\">\n",
       "  <thead>\n",
       "    <tr style=\"text-align: right;\">\n",
       "      <th></th>\n",
       "      <th>0</th>\n",
       "      <th>1</th>\n",
       "      <th>2</th>\n",
       "      <th>3</th>\n",
       "    </tr>\n",
       "  </thead>\n",
       "  <tbody>\n",
       "    <tr>\n",
       "      <th>0</th>\n",
       "      <td>0.051724</td>\n",
       "      <td>0.215909</td>\n",
       "      <td>0.000814</td>\n",
       "      <td>0.074541</td>\n",
       "    </tr>\n",
       "    <tr>\n",
       "      <th>1</th>\n",
       "      <td>0.032020</td>\n",
       "      <td>0.193182</td>\n",
       "      <td>0.000102</td>\n",
       "      <td>0.044254</td>\n",
       "    </tr>\n",
       "    <tr>\n",
       "      <th>2</th>\n",
       "      <td>0.019704</td>\n",
       "      <td>0.113636</td>\n",
       "      <td>0.000237</td>\n",
       "      <td>0.003029</td>\n",
       "    </tr>\n",
       "  </tbody>\n",
       "</table>\n",
       "</div>"
      ],
      "text/plain": [
       "          0         1         2         3\n",
       "0  0.051724  0.215909  0.000814  0.074541\n",
       "1  0.032020  0.193182  0.000102  0.044254\n",
       "2  0.019704  0.113636  0.000237  0.003029"
      ]
     },
     "execution_count": 9,
     "metadata": {},
     "output_type": "execute_result"
    }
   ],
   "source": [
    "mm = MinMaxScaler()         # MinMaxScaler normalizasyonu sütundaki verileri belirli iki sayı arasına ölçekler.\n",
    "x3 = mm.fit_transform(x)\n",
    "x3\n",
    "x3 = pd.DataFrame(x3)\n",
    "x3.head(3)"
   ]
  },
  {
   "cell_type": "code",
   "execution_count": 10,
   "metadata": {},
   "outputs": [
    {
     "data": {
      "text/plain": [
       "0.0"
      ]
     },
     "execution_count": 10,
     "metadata": {},
     "output_type": "execute_result"
    }
   ],
   "source": [
    "x3[0].max()         # 1.0 --> herhangi bir sütunun içindeki maksimum veri 1.0 olacak şekilde ölçekler. \n",
    "x3[0].min()         # 0.0 --> herhangi bir sütunun içindeki minimum veri 0.0 olacak şekilde ölçekler."
   ]
  },
  {
   "cell_type": "code",
   "execution_count": 11,
   "metadata": {},
   "outputs": [
    {
     "data": {
      "text/html": [
       "<div>\n",
       "<style scoped>\n",
       "    .dataframe tbody tr th:only-of-type {\n",
       "        vertical-align: middle;\n",
       "    }\n",
       "\n",
       "    .dataframe tbody tr th {\n",
       "        vertical-align: top;\n",
       "    }\n",
       "\n",
       "    .dataframe thead th {\n",
       "        text-align: right;\n",
       "    }\n",
       "</style>\n",
       "<table border=\"1\" class=\"dataframe\">\n",
       "  <thead>\n",
       "    <tr style=\"text-align: right;\">\n",
       "      <th></th>\n",
       "      <th>0</th>\n",
       "      <th>1</th>\n",
       "      <th>2</th>\n",
       "      <th>3</th>\n",
       "    </tr>\n",
       "  </thead>\n",
       "  <tbody>\n",
       "    <tr>\n",
       "      <th>0</th>\n",
       "      <td>2.310345</td>\n",
       "      <td>3.295455</td>\n",
       "      <td>2.004883</td>\n",
       "      <td>2.447249</td>\n",
       "    </tr>\n",
       "    <tr>\n",
       "      <th>1</th>\n",
       "      <td>2.192118</td>\n",
       "      <td>3.159091</td>\n",
       "      <td>2.000610</td>\n",
       "      <td>2.265522</td>\n",
       "    </tr>\n",
       "    <tr>\n",
       "      <th>2</th>\n",
       "      <td>2.118227</td>\n",
       "      <td>2.681818</td>\n",
       "      <td>2.001424</td>\n",
       "      <td>2.018173</td>\n",
       "    </tr>\n",
       "  </tbody>\n",
       "</table>\n",
       "</div>"
      ],
      "text/plain": [
       "          0         1         2         3\n",
       "0  2.310345  3.295455  2.004883  2.447249\n",
       "1  2.192118  3.159091  2.000610  2.265522\n",
       "2  2.118227  2.681818  2.001424  2.018173"
      ]
     },
     "execution_count": 11,
     "metadata": {},
     "output_type": "execute_result"
    }
   ],
   "source": [
    "mm2 = MinMaxScaler(feature_range=(2,8))         # MinMaxScaler normalizasyonu sütundaki verileri 2 ve 8 sayıları arasına ölçekler.\n",
    "x4 = mm2.fit_transform(x)\n",
    "x4\n",
    "x4 = pd.DataFrame(x4)\n",
    "x4.head(3)"
   ]
  },
  {
   "cell_type": "code",
   "execution_count": 12,
   "metadata": {},
   "outputs": [
    {
     "data": {
      "text/plain": [
       "2.0"
      ]
     },
     "execution_count": 12,
     "metadata": {},
     "output_type": "execute_result"
    }
   ],
   "source": [
    "x4[0].max()         # 8.0 --> herhangi bir sütunun içindeki maksimum veri 8.0 olacak şekilde ölçekler. \n",
    "x4[0].min()         # 2.0 --> herhangi bir sütunun içindeki minimum veri 2.0 olacak şekilde ölçekler."
   ]
  },
  {
   "cell_type": "code",
   "execution_count": null,
   "metadata": {},
   "outputs": [],
   "source": []
  }
 ],
 "metadata": {
  "kernelspec": {
   "display_name": "Python 3",
   "language": "python",
   "name": "python3"
  },
  "language_info": {
   "codemirror_mode": {
    "name": "ipython",
    "version": 3
   },
   "file_extension": ".py",
   "mimetype": "text/x-python",
   "name": "python",
   "nbconvert_exporter": "python",
   "pygments_lexer": "ipython3",
   "version": "3.12.3"
  }
 },
 "nbformat": 4,
 "nbformat_minor": 2
}
