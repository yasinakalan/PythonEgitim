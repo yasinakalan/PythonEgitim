{
 "cells": [
  {
   "cell_type": "code",
   "execution_count": 1,
   "metadata": {},
   "outputs": [],
   "source": [
    "# Ridge Regresyon overfitting(Aşırı öğrenme) durumları için kullanılır.\n",
    "# Ridge Regresyon sayesinde bias ve varyans arasındaki dengeyi sağlayabiliriz.\n",
    "# Ridge Regresyonda katsayılar üzerinde regülasyon yapılıyor.\n",
    "# Ridge Regresyonda katsayılar küçülür ama sıfır olmaz. Features öz nitelik azalmaz.\n",
    "# Ridge regresyon cezalar karesi ile orantılıdır.\n",
    "# Ridge regresyon \"l2\" dir.\n",
    "# Ridge regresyon sayesinde aşırı öğrenilmiş eğrinin eğimi azaltılıp artırılarak x katsayıları artırılıp azaltılır ve sonuç olarak optimum eğri bulunur."
   ]
  },
  {
   "cell_type": "code",
   "execution_count": 2,
   "metadata": {},
   "outputs": [],
   "source": [
    "# y = a1*x1 + a2*x2 + .... + b + alfa*((katsayilarToplami)**2)          # alfa*((katsayilarToplami)**2) artarsa x değerlerinin katsayıları küçülür."
   ]
  },
  {
   "cell_type": "code",
   "execution_count": 3,
   "metadata": {},
   "outputs": [],
   "source": [
    "import pandas as pd\n",
    "import numpy as np\n",
    "import matplotlib.pyplot as plt\n",
    "from sklearn.linear_model import LinearRegression\n",
    "from sklearn.linear_model import Ridge"
   ]
  },
  {
   "cell_type": "code",
   "execution_count": 4,
   "metadata": {},
   "outputs": [
    {
     "data": {
      "text/html": [
       "<div>\n",
       "<style scoped>\n",
       "    .dataframe tbody tr th:only-of-type {\n",
       "        vertical-align: middle;\n",
       "    }\n",
       "\n",
       "    .dataframe tbody tr th {\n",
       "        vertical-align: top;\n",
       "    }\n",
       "\n",
       "    .dataframe thead th {\n",
       "        text-align: right;\n",
       "    }\n",
       "</style>\n",
       "<table border=\"1\" class=\"dataframe\">\n",
       "  <thead>\n",
       "    <tr style=\"text-align: right;\">\n",
       "      <th></th>\n",
       "      <th>Hours</th>\n",
       "      <th>Scores</th>\n",
       "    </tr>\n",
       "  </thead>\n",
       "  <tbody>\n",
       "    <tr>\n",
       "      <th>0</th>\n",
       "      <td>2.5</td>\n",
       "      <td>21</td>\n",
       "    </tr>\n",
       "    <tr>\n",
       "      <th>1</th>\n",
       "      <td>5.1</td>\n",
       "      <td>47</td>\n",
       "    </tr>\n",
       "    <tr>\n",
       "      <th>2</th>\n",
       "      <td>3.2</td>\n",
       "      <td>27</td>\n",
       "    </tr>\n",
       "    <tr>\n",
       "      <th>3</th>\n",
       "      <td>8.5</td>\n",
       "      <td>75</td>\n",
       "    </tr>\n",
       "    <tr>\n",
       "      <th>4</th>\n",
       "      <td>3.5</td>\n",
       "      <td>30</td>\n",
       "    </tr>\n",
       "  </tbody>\n",
       "</table>\n",
       "</div>"
      ],
      "text/plain": [
       "   Hours  Scores\n",
       "0    2.5      21\n",
       "1    5.1      47\n",
       "2    3.2      27\n",
       "3    8.5      75\n",
       "4    3.5      30"
      ]
     },
     "execution_count": 4,
     "metadata": {},
     "output_type": "execute_result"
    }
   ],
   "source": [
    "df = pd.read_csv(\"datasets/student_scores.csv\")\n",
    "df.head(5)"
   ]
  },
  {
   "cell_type": "code",
   "execution_count": 5,
   "metadata": {},
   "outputs": [],
   "source": [
    "y = df['Scores']\n",
    "x = df[[\"Hours\"]]"
   ]
  },
  {
   "cell_type": "code",
   "execution_count": 6,
   "metadata": {},
   "outputs": [
    {
     "data": {
      "image/png": "[encoded data removed]",
      "text/plain": [
       "<Figure size 800x800 with 1 Axes>"
      ]
     },
     "metadata": {},
     "output_type": "display_data"
    }
   ],
   "source": [
    "plt.style.use(\"fivethirtyeight\")\n",
    "plt.figure(figsize=(8,8))\n",
    "plt.scatter(x, y)\n",
    "plt.show()"
   ]
  },
  {
   "cell_type": "code",
   "execution_count": 7,
   "metadata": {},
   "outputs": [
    {
     "data": {
      "text/plain": [
       "0.9529481969048356"
      ]
     },
     "execution_count": 7,
     "metadata": {},
     "output_type": "execute_result"
    }
   ],
   "source": [
    "lr = LinearRegression()\n",
    "model = lr.fit(x, y)\n",
    "model.score(x, y)"
   ]
  },
  {
   "cell_type": "code",
   "execution_count": 8,
   "metadata": {},
   "outputs": [
    {
     "name": "stdout",
     "output_type": "stream",
     "text": [
      "skor: 0.9529481969048356\n",
      "Katsayı:  [9.77580339]\n",
      "skor: 0.9529481928359094\n",
      "Katsayı:  [9.7751646]\n",
      "skor: 0.9529477904903789\n",
      "Katsayı:  [9.76941925]\n",
      "skor: 0.9529080290200403\n",
      "Katsayı:  [9.71233503]\n",
      "skor: 0.9493626664489586\n",
      "Katsayı:  [9.17615797]\n",
      "skor: 0.9402159650030348\n",
      "Katsayı:  [8.64582515]\n",
      "skor: 0.8041020421635486\n",
      "Katsayı:  [5.91225263]\n",
      "skor: 0.6470936677458763\n",
      "Katsayı:  [4.23751878]\n"
     ]
    }
   ],
   "source": [
    "alfa_degerleri = [0, 0.01, 0.1, 1, 10, 20, 100, 200]\n",
    "for a in alfa_degerleri:\n",
    "    r = Ridge(alpha = a)\n",
    "    model_r = r.fit(x, y)\n",
    "    skor = model_r.score(x, y)\n",
    "    print(f\"skor: {skor}\")\n",
    "    print(\"Katsayı: \", model_r.coef_)"
   ]
  },
  {
   "cell_type": "code",
   "execution_count": null,
   "metadata": {},
   "outputs": [],
   "source": []
  }
 ],
 "metadata": {
  "kernelspec": {
   "display_name": "Python 3",
   "language": "python",
   "name": "python3"
  },
  "language_info": {
   "codemirror_mode": {
    "name": "ipython",
    "version": 3
   },
   "file_extension": ".py",
   "mimetype": "text/x-python",
   "name": "python",
   "nbconvert_exporter": "python",
   "pygments_lexer": "ipython3",
   "version": "3.12.3"
  }
 },
 "nbformat": 4,
 "nbformat_minor": 2
}
