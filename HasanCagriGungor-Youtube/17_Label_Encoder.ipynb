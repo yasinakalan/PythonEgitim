{
 "cells": [
  {
   "cell_type": "code",
   "execution_count": 1,
   "metadata": {},
   "outputs": [],
   "source": [
    "# Kategorisel verileri numerik verilere çeviriyor. ---> ['bjk', 'gs', 'bjk', 'fb'] => [0,1,0,2]\n",
    "# dummy metodundan farklıdır. dummy --> ['bjk', 'gs', 'bjk', 'fb'] => [[1,0,0], [0,1,0], [1,0,0],[0,0,1]]\n",
    "# Bağımlı değişkenlerde(y) kullanılması zordur."
   ]
  },
  {
   "cell_type": "code",
   "execution_count": 2,
   "metadata": {},
   "outputs": [],
   "source": [
    "import pandas as pd\n",
    "import numpy as np\n",
    "from sklearn.preprocessing import LabelEncoder"
   ]
  },
  {
   "cell_type": "code",
   "execution_count": 3,
   "metadata": {},
   "outputs": [
    {
     "data": {
      "text/html": [
       "<div>\n",
       "<style scoped>\n",
       "    .dataframe tbody tr th:only-of-type {\n",
       "        vertical-align: middle;\n",
       "    }\n",
       "\n",
       "    .dataframe tbody tr th {\n",
       "        vertical-align: top;\n",
       "    }\n",
       "\n",
       "    .dataframe thead th {\n",
       "        text-align: right;\n",
       "    }\n",
       "</style>\n",
       "<table border=\"1\" class=\"dataframe\">\n",
       "  <thead>\n",
       "    <tr style=\"text-align: right;\">\n",
       "      <th></th>\n",
       "      <th>Year</th>\n",
       "      <th>Tour_No</th>\n",
       "      <th>Winner</th>\n",
       "      <th>Country</th>\n",
       "      <th>Team</th>\n",
       "      <th>Tour_overall_length_(km)</th>\n",
       "      <th>age</th>\n",
       "      <th>BMI</th>\n",
       "      <th>weight_(Kg)</th>\n",
       "      <th>height_(m)</th>\n",
       "      <th>rider_type_(PPS)</th>\n",
       "      <th>close_rider_type_(PPS)</th>\n",
       "    </tr>\n",
       "  </thead>\n",
       "  <tbody>\n",
       "    <tr>\n",
       "      <th>0</th>\n",
       "      <td>2023</td>\n",
       "      <td>110</td>\n",
       "      <td>Jonas Vingegaard</td>\n",
       "      <td>Denmark</td>\n",
       "      <td>Team Jumbo Visma</td>\n",
       "      <td>3406</td>\n",
       "      <td>25</td>\n",
       "      <td>19.6</td>\n",
       "      <td>60.0</td>\n",
       "      <td>1.749636</td>\n",
       "      <td>climber</td>\n",
       "      <td>NaN</td>\n",
       "    </tr>\n",
       "    <tr>\n",
       "      <th>1</th>\n",
       "      <td>2022</td>\n",
       "      <td>109</td>\n",
       "      <td>Jonas Vingegaard</td>\n",
       "      <td>Denmark</td>\n",
       "      <td>Team Jumbo Visma</td>\n",
       "      <td>3328</td>\n",
       "      <td>25</td>\n",
       "      <td>19.6</td>\n",
       "      <td>60.0</td>\n",
       "      <td>1.749636</td>\n",
       "      <td>climber</td>\n",
       "      <td>NaN</td>\n",
       "    </tr>\n",
       "    <tr>\n",
       "      <th>2</th>\n",
       "      <td>2021</td>\n",
       "      <td>108</td>\n",
       "      <td>Tadej Pogacar</td>\n",
       "      <td>Slovenia</td>\n",
       "      <td>UAE Team Emirates</td>\n",
       "      <td>3383</td>\n",
       "      <td>22</td>\n",
       "      <td>21.3</td>\n",
       "      <td>66.0</td>\n",
       "      <td>1.760282</td>\n",
       "      <td>climber</td>\n",
       "      <td>NaN</td>\n",
       "    </tr>\n",
       "  </tbody>\n",
       "</table>\n",
       "</div>"
      ],
      "text/plain": [
       "   Year  Tour_No            Winner   Country               Team  \\\n",
       "0  2023      110  Jonas Vingegaard   Denmark   Team Jumbo Visma   \n",
       "1  2022      109  Jonas Vingegaard   Denmark   Team Jumbo Visma   \n",
       "2  2021      108     Tadej Pogacar  Slovenia  UAE Team Emirates   \n",
       "\n",
       "  Tour_overall_length_(km)  age   BMI  weight_(Kg)  height_(m)  \\\n",
       "0                     3406   25  19.6         60.0    1.749636   \n",
       "1                     3328   25  19.6         60.0    1.749636   \n",
       "2                     3383   22  21.3         66.0    1.760282   \n",
       "\n",
       "  rider_type_(PPS) close_rider_type_(PPS)  \n",
       "0          climber                    NaN  \n",
       "1          climber                    NaN  \n",
       "2          climber                    NaN  "
      ]
     },
     "execution_count": 3,
     "metadata": {},
     "output_type": "execute_result"
    }
   ],
   "source": [
    "df = pd.read_csv('datasets/Tour_Winners_data_1.csv')\n",
    "df.head(3)"
   ]
  },
  {
   "cell_type": "code",
   "execution_count": 4,
   "metadata": {},
   "outputs": [
    {
     "name": "stdout",
     "output_type": "stream",
     "text": [
      "<class 'pandas.core.frame.DataFrame'>\n",
      "RangeIndex: 110 entries, 0 to 109\n",
      "Data columns (total 12 columns):\n",
      " #   Column                    Non-Null Count  Dtype  \n",
      "---  ------                    --------------  -----  \n",
      " 0   Year                      110 non-null    int64  \n",
      " 1   Tour_No                   110 non-null    int64  \n",
      " 2   Winner                    110 non-null    object \n",
      " 3   Country                   110 non-null    object \n",
      " 4   Team                      110 non-null    object \n",
      " 5   Tour_overall_length_(km)  110 non-null    object \n",
      " 6   age                       110 non-null    int64  \n",
      " 7   BMI                       70 non-null     float64\n",
      " 8   weight_(Kg)               71 non-null     float64\n",
      " 9   height_(m)                70 non-null     float64\n",
      " 10  rider_type_(PPS)          110 non-null    object \n",
      " 11  close_rider_type_(PPS)    48 non-null     object \n",
      "dtypes: float64(3), int64(3), object(6)\n",
      "memory usage: 10.4+ KB\n"
     ]
    }
   ],
   "source": [
    "df.info()"
   ]
  },
  {
   "cell_type": "code",
   "execution_count": 5,
   "metadata": {},
   "outputs": [
    {
     "data": {
      "text/plain": [
       "array(['Team Jumbo Visma', 'UAE Team Emirates', 'Team Ineos ', 'Team Sky',\n",
       "       'Astana Pro Team', 'BMC Racing Team', 'Team Saxo Bank', 'Astana',\n",
       "       'Team CSC Saxo Bank', 'Discovery Channel', \"Caisse d'Epargne\",\n",
       "       'US Postal Service', 'Mercatone Uno', 'Telekom', 'Banesto',\n",
       "       'Z Tomasso', 'ADR', 'Reynolds', 'Carrera', 'La Vie Claire',\n",
       "       'Renault', 'TI Raleigh', 'Peugeot', 'Gitane', 'Molteni', 'Bic',\n",
       "       'Faemino', 'Faema', 'Holland', 'France', 'Ford', 'Salvarini',\n",
       "       'St-Raphael', 'Italy', 'Spain', 'Holland Luxembourg',\n",
       "       'Nord Est Centre', 'Switzerland', 'Ouest', 'Belgium', 'Alcyon',\n",
       "       'Automoto', 'Cycles Peugeot', 'La Sportive', 'Alycon', 'Cycles JC',\n",
       "       'La Francaise'], dtype=object)"
      ]
     },
     "execution_count": 5,
     "metadata": {},
     "output_type": "execute_result"
    }
   ],
   "source": [
    "df['Team'].unique()     # Sütundaki verileri listeler."
   ]
  },
  {
   "cell_type": "code",
   "execution_count": 6,
   "metadata": {},
   "outputs": [],
   "source": [
    "le = LabelEncoder()     # Kategorik verileri numerik verilere dönüştürür.\n",
    "le.fit(df['Team'])      # Verilen sütun verilerini numerik verilere eşitler.\n",
    "x = le.transform(df['Team'])    # Verilen sütun verilerini numerik verilere dönüştürür."
   ]
  },
  {
   "cell_type": "code",
   "execution_count": 7,
   "metadata": {},
   "outputs": [
    {
     "data": {
      "text/plain": [
       "array(['ADR', 'Alcyon', 'Alycon', 'Astana', 'Astana Pro Team', 'Automoto',\n",
       "       'BMC Racing Team', 'Banesto', 'Belgium', 'Bic', \"Caisse d'Epargne\",\n",
       "       'Carrera', 'Cycles JC', 'Cycles Peugeot', 'Discovery Channel',\n",
       "       'Faema', 'Faemino', 'Ford', 'France', 'Gitane', 'Holland',\n",
       "       'Holland Luxembourg', 'Italy', 'La Francaise', 'La Sportive',\n",
       "       'La Vie Claire', 'Mercatone Uno', 'Molteni', 'Nord Est Centre',\n",
       "       'Ouest', 'Peugeot', 'Renault', 'Reynolds', 'Salvarini', 'Spain',\n",
       "       'St-Raphael', 'Switzerland', 'TI Raleigh', 'Team CSC Saxo Bank',\n",
       "       'Team Ineos ', 'Team Jumbo Visma', 'Team Saxo Bank', 'Team Sky',\n",
       "       'Telekom', 'UAE Team Emirates', 'US Postal Service', 'Z Tomasso'],\n",
       "      dtype=object)"
      ]
     },
     "execution_count": 7,
     "metadata": {},
     "output_type": "execute_result"
    }
   ],
   "source": [
    "le.classes_         # Dönüştürülen verilerin alfabetik sıralamasını verir."
   ]
  },
  {
   "cell_type": "code",
   "execution_count": 8,
   "metadata": {},
   "outputs": [
    {
     "data": {
      "text/plain": [
       "array(['Team Jumbo Visma', 'Team Jumbo Visma', 'UAE Team Emirates',\n",
       "       'UAE Team Emirates', 'Team Ineos ', 'Team Sky', 'Team Sky',\n",
       "       'Team Sky', 'Team Sky', 'Astana Pro Team', 'Team Sky', 'Team Sky',\n",
       "       'BMC Racing Team', 'Team Saxo Bank', 'Astana',\n",
       "       'Team CSC Saxo Bank', 'Discovery Channel', \"Caisse d'Epargne\",\n",
       "       'Discovery Channel', 'US Postal Service', 'US Postal Service',\n",
       "       'US Postal Service', 'US Postal Service', 'US Postal Service',\n",
       "       'US Postal Service', 'Mercatone Uno', 'Telekom', 'Telekom',\n",
       "       'Banesto', 'Banesto', 'Banesto', 'Banesto', 'Banesto', 'Z Tomasso',\n",
       "       'ADR', 'Reynolds', 'Carrera', 'La Vie Claire', 'La Vie Claire',\n",
       "       'Renault', 'Renault', 'Renault', 'Renault', 'TI Raleigh',\n",
       "       'Renault', 'Renault', 'Peugeot', 'Gitane', 'Peugeot', 'Molteni',\n",
       "       'Bic', 'Molteni', 'Molteni', 'Faemino', 'Faema', 'Holland',\n",
       "       'France', 'Ford', 'Salvarini', 'St-Raphael', 'St-Raphael',\n",
       "       'St-Raphael', 'France', 'Italy', 'Spain', 'Holland Luxembourg',\n",
       "       'France', 'Nord Est Centre', 'France', 'France', 'France', 'Italy',\n",
       "       'Switzerland', 'Switzerland', 'Italy', 'Italy', 'Ouest', 'Belgium',\n",
       "       'Italy', 'France', 'Belgium', 'Belgium', 'France', 'France',\n",
       "       'France', 'France', 'France', 'Alcyon', 'Alcyon', 'Alcyon',\n",
       "       'Automoto', 'Automoto', 'Automoto', 'Automoto', 'Cycles Peugeot',\n",
       "       'La Sportive', 'La Sportive', 'La Sportive', 'Cycles Peugeot',\n",
       "       'Cycles Peugeot', 'Alycon', 'Alycon', 'Alycon', 'Alycon',\n",
       "       'Cycles Peugeot', 'Cycles Peugeot', 'Cycles Peugeot',\n",
       "       'Cycles Peugeot', 'Cycles JC', 'La Francaise'], dtype=object)"
      ]
     },
     "execution_count": 8,
     "metadata": {},
     "output_type": "execute_result"
    }
   ],
   "source": [
    "le.inverse_transform(x)     # Numerik verilere dönüştürülen verilerin Kategorik verilere geri dönüştürülmesini sağlar."
   ]
  },
  {
   "cell_type": "code",
   "execution_count": null,
   "metadata": {},
   "outputs": [],
   "source": []
  }
 ],
 "metadata": {
  "kernelspec": {
   "display_name": "Python 3",
   "language": "python",
   "name": "python3"
  },
  "language_info": {
   "codemirror_mode": {
    "name": "ipython",
    "version": 3
   },
   "file_extension": ".py",
   "mimetype": "text/x-python",
   "name": "python",
   "nbconvert_exporter": "python",
   "pygments_lexer": "ipython3",
   "version": "3.12.3"
  }
 },
 "nbformat": 4,
 "nbformat_minor": 2
}
