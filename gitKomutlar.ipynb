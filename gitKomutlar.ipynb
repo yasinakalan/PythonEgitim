{
 "cells": [
  {
   "cell_type": "code",
   "execution_count": 2,
   "metadata": {},
   "outputs": [
    {
     "data": {
      "text/plain": [
       "'\\nGit kurulup Git Bash açıldıktan sonra git yazıp enter a basarsak git e ait komutların listesi gelir.\\nGit üzerinde ilk yapılması gereken kullanıcı adı ve email bilgisini tanımlamak olmalıdır.\\n'"
      ]
     },
     "execution_count": 2,
     "metadata": {},
     "output_type": "execute_result"
    }
   ],
   "source": [
    "\"\"\"\n",
    "Git kurulup Git Bash açıldıktan sonra git yazıp enter a basarsak git e ait komutların listesi gelir.\n",
    "Git üzerinde ilk yapılması gereken kullanıcı adı ve email bilgisini tanımlamak olmalıdır.\n",
    "\"\"\"\n",
    "\n",
    "# git config --global user.name \"yasinakalan\"                   # git üzerinde kullanıcı adı tanımlaması yapılır.\n",
    "# git config --global user.name                                 # git kullanıcı adı sorgulaması yapılır.\n",
    "# git config --global user.email \"yasin.akalan@outlook.com\"     # git email tanımlaması yapılır.\n",
    "# git config --global user.email                                # git email sorgulaması yapılır."
   ]
  },
  {
   "cell_type": "code",
   "execution_count": 3,
   "metadata": {},
   "outputs": [],
   "source": [
    "# # ANA KOMUTLAR - LOKAL İÇİN:\n",
    "# git init                  # bulunduğu konumda git özelliğini aktif etmek için en sık kullanılan komuttur.\n",
    "# git status                # git mevcut durum sorgulaması için en sık kullanılan komuttur.\n",
    "# git add ornek.py          # ornek.py dosyasında yapılan değişiklikleri git e kaydetmek için kullanılan komuttur.\n",
    "# git add .                 # kayıtlı git üzerindeki dosyalarda yapılan tüm değişiklikleri git e kaydetmek için kullanılan komuttur.\n",
    "# git commit -m \"mesaj\"     # git üzerine kaydedilen dosyaların git e kayıt/geri dönüş(checkpoint) noktası olarak bir mesaj ile tanımlanması için kullanılır.\n",
    "# git log                   # git üzerindeki tüm kayıt noktalarını listeleyen komuttur.\n",
    "# git branch                # git üzerindeki tüm branchleri listelemek için kullanılan komuttur.\n",
    "# git branch yeniBranchAdi  # git üzerinde farklı bir branch(dal) oluşturmak için kullanılan komuttur.\n",
    "# git switch yeniBranchAdi  # git üzerindeki branchleri aktif etmek için kullanılan komuttur.\n",
    "# touch .gitignore          # git e eklerken lokalde olupta gitte görünmesini istemediğimiz dosyaları bildirmek için kullanılan komuttur. Bu dosyanın içine gizlenmesi istenen dosya adı uzantısı ile birlikte yazılır. Her satıra bir dosya gelebilir."
   ]
  },
  {
   "cell_type": "code",
   "execution_count": 4,
   "metadata": {},
   "outputs": [
    {
     "data": {
      "text/plain": [
       "'\\nFarklı branchlerde çalışıp en son iki branchin birleştirilmesi için kullanılan komuttur. Kullanırken dikkatli olmak gerekir. Çakışma varsa tek tek çözümlenmelidir.\\n'"
      ]
     },
     "execution_count": 4,
     "metadata": {},
     "output_type": "execute_result"
    }
   ],
   "source": [
    "# Merge:\n",
    "\"\"\"\n",
    "Farklı branchlerde çalışıp en son iki branchin birleştirilmesi için kullanılan komuttur. Kullanırken dikkatli olmak gerekir. Çakışma varsa tek tek çözümlenmelidir.\n",
    "\"\"\""
   ]
  }
 ],
 "metadata": {
  "kernelspec": {
   "display_name": "Python 3",
   "language": "python",
   "name": "python3"
  },
  "language_info": {
   "codemirror_mode": {
    "name": "ipython",
    "version": 3
   },
   "file_extension": ".py",
   "mimetype": "text/x-python",
   "name": "python",
   "nbconvert_exporter": "python",
   "pygments_lexer": "ipython3",
   "version": "3.12.3"
  }
 },
 "nbformat": 4,
 "nbformat_minor": 2
}
