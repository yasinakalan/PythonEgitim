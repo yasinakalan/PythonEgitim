{
 "cells": [
  {
   "cell_type": "markdown",
   "metadata": {},
   "source": [
    "GIT KOMUTLARI"
   ]
  },
  {
   "cell_type": "code",
   "execution_count": null,
   "metadata": {},
   "outputs": [],
   "source": [
    "\"\"\"\n",
    "Git kurulup Git Bash açıldıktan sonra git yazıp enter a basarsak git e ait komutların listesi gelir.\n",
    "Git üzerinde ilk yapılması gereken kullanıcı adı ve email bilgisini tanımlamak olmalıdır.\n",
    "\"\"\"\n",
    "\n",
    "# git config --global user.name \"yasinakalan\"                   # git üzerinde kullanıcı adı tanımlaması yapılır.\n",
    "# git config --global user.name                                 # git kullanıcı adı sorgulaması yapılır.\n",
    "# git config --global user.email \"yasin.akalan@outlook.com\"     # git email tanımlaması yapılır.\n",
    "# git config --global user.email                                # git email sorgulaması yapılır."
   ]
  },
  {
   "cell_type": "code",
   "execution_count": null,
   "metadata": {},
   "outputs": [],
   "source": [
    "# # ANA KOMUTLAR - LOKAL İÇİN:\n",
    "# git init                  # bulunduğu konumda git özelliğini aktif etmek için en sık kullanılan komuttur.\n",
    "# git status                # git mevcut durum sorgulaması için en sık kullanılan komuttur.\n",
    "# git add ornek.py          # ornek.py dosyasında yapılan değişiklikleri git e kaydetmek için kullanılan komuttur.\n",
    "# git add .                 # kayıtlı git üzerindeki dosyalarda yapılan tüm değişiklikleri git e kaydetmek için kullanılan komuttur.\n",
    "# git commit -m \"mesaj\"     # git üzerine kaydedilen dosyaların git e kayıt/geri dönüş(checkpoint) noktası olarak bir mesaj ile tanımlanması için kullanılır.\n",
    "# git log                   # git üzerindeki tüm kayıt noktalarını listeleyen komuttur.\n",
    "# git branch                # git üzerindeki tüm branchleri listelemek için kullanılan komuttur.\n",
    "# git branch yeniBranchAdi  # git üzerinde farklı bir branch(dal) oluşturmak için kullanılan komuttur.\n",
    "# git switch yeniBranchAdi  # git üzerindeki branchleri aktif etmek için kullanılan komuttur.\n",
    "# touch .gitignore          # git e eklerken lokalde olupta gitte görünmesini istemediğimiz dosyaları bildirmek için kullanılan komuttur. Bu dosyanın içine gizlenmesi istenen dosya adı uzantısı ile birlikte yazılır. Her satıra bir dosya gelebilir."
   ]
  },
  {
   "cell_type": "code",
   "execution_count": null,
   "metadata": {},
   "outputs": [],
   "source": [
    "# Merge:\n",
    "\"\"\"\n",
    "Farklı branchlerde çalışıp en son iki branchin birleştirilmesi için kullanılan komuttur. Kullanırken dikkatli olmak gerekir. Çakışma varsa tek tek çözümlenmelidir.\n",
    "yazdığımız komuttaki branch, aktif branch ile birleştirilir. master branchindeysek ve git merge yeniBranchAdi komutu ile birleştirme yaparsak burada yeniBranchAdi branchini master branchimiz ile birleştirmeye çalışırız.\n",
    "\"\"\"\n",
    "#git merge yeniBranchAdi\n",
    "\n",
    "\"\"\"\n",
    "NOT: Farklı bir branchte yenidosya oluşturup git add . yapıp commit edilmezse, yenidosya ve değişiklikler commit edilene kadar hangi branch üzerine geçersek değişiklikler o branche gelir.\n",
    "\"\"\""
   ]
  },
  {
   "cell_type": "code",
   "execution_count": null,
   "metadata": {},
   "outputs": [],
   "source": [
    "# git restore deneme.txt    # En son çalışan haline geri döndürür.\n",
    "# git stash                 # Değişiklikleri farklı bir yerde saklar. Değişiklikleri her yerde gizler ve bunlara bir ID verir.\n",
    "# git stash pop             # stash ile gizlenen değişiklikleri bulunduğumuz branche geri getirir.\n",
    "# git stash list            # gizlenmiş tüm değişikliklerin listesini getirir.\n",
    "# git stash apply stash@{0} # stash@{0} numaralı commit edilmemiş ancak stash ile gizlenmiş değişiklikleri bulunulan branchi geri getirir.\n",
    "# git stash clear           # Tüm stashleri siler.\n",
    "# git stash apply           # listede tek bir stash varsa ve geri getirildiğinde stash listden silinmesini istemiyorsak(tekrar kullanabilmek için) kullanabiliriz.\n",
    "# git restore deneme.txt    # Değişiklikler yapılmadan önceki committe bulunan haline geri döndürür."
   ]
  },
  {
   "cell_type": "code",
   "execution_count": null,
   "metadata": {},
   "outputs": [],
   "source": [
    "# git checkout (commit hash)        # hashte bulunan commite gider. Commitler arası geçiş için kullanılır. (branch lar arası geçişi switch ile yapıyoruz.)"
   ]
  },
  {
   "cell_type": "code",
   "execution_count": null,
   "metadata": {},
   "outputs": [],
   "source": [
    "# git reset (commit hash)           # seçilen hashten sonra oluşturulan commitleri siler. Dosyada bir değişiklik yapmaz.\n",
    "# git reset --hard (commit hash)    # seçilen hashnte sonra oluşturulan commitleri ve dosya değişikliklerini siler. Hash verilen commite tamamen geri döner. Kalıcıdır. Dikkatli kullanılmalıdır.\n",
    "# git revert (commit hash)          # hashi verilen commiti geri alır. Yeni commit oluşturur. git log ile bakıldığında revert edilen eski commit bilgisi görülür. revert işlemi sondan başa doğru sırayla yapılmalıdır.\n",
    "\"\"\"\n",
    "revert işleminin faydası; git reset --hard (commit hash) ile yapılan geri donme işlemleri yapılamazken, git revert (commit hash) ile yapılan geri dönme işlemleri kayıtlı kalır.\n",
    "Değişiklikler projeye dahil edilmez ancak istenirse geri dönülebilir.\n",
    "\"\"\""
   ]
  },
  {
   "cell_type": "code",
   "execution_count": null,
   "metadata": {},
   "outputs": [],
   "source": [
    "# git diff                          # iki commit arasındaki farkları gösterir.\n",
    "\"\"\"\n",
    "Kullanımı: son değişikliği yapıp git add . yapılmadan önce çalıştırılırsa farkları gösterir. Yani son committen sonra yapılan değişiklikleri gösterir.\n",
    "git add . yapılır git commit yapılmazsa git diff kullanıldığında aktif olan (HEAD) branch ile arasındaki farkları gösterir.\n",
    "\"\"\"\n",
    "# git diff (son_hash):(ilk_hash)    # (:) yerine boşlukta kullanılabilir. Herhangi iki commit arasındaki farkları gösterir.\n",
    "# git diff (branch_1) (branch_2)    # iki branch arasındaki farkları gösterir."
   ]
  },
  {
   "cell_type": "code",
   "execution_count": null,
   "metadata": {},
   "outputs": [],
   "source": [
    "# git rebase master                 # brachlere göre tüm commitleri kronolojilk olarak sıralar. Kullanırken dikkatli olunmalıdır.\n",
    "\"\"\"\n",
    "Ayrı branchte çalışırken master branchte değişiklik yapıldıysa projeye master branchte yapılan değişiklikleri eklemek ve yapılan tüm commitlerin başına almak için kullanılır.\n",
    "NOT: Bu komut yenibranch aktifken kullanılır. Böylece komut kullanıldığında yenibranchin önüne ilk olarak master branchinin commitlerini sıralar.\n",
    "\"\"\""
   ]
  },
  {
   "cell_type": "markdown",
   "metadata": {},
   "source": [
    "GITHUB"
   ]
  },
  {
   "cell_type": "code",
   "execution_count": null,
   "metadata": {},
   "outputs": [],
   "source": [
    "# Proje klasörünü oluştur.\n",
    "# Proje klasöründe git init çalıştır.\n",
    "# Projeyi ve commitleri tamamla.\n",
    "# GitHub da yeni repository oluştur."
   ]
  },
  {
   "cell_type": "code",
   "execution_count": null,
   "metadata": {},
   "outputs": [],
   "source": [
    "# git remote add origin (url).git               # bu komut çalıştırıldığında github a uzaktan erişimi sağlamış oluruz.\n",
    "# git push -u origin main                       # bu komut ile lokalde yapılan değişiklikler uzak erişim ile github da güncelleme yapar.\n",
    "\"\"\"\n",
    "NOT: \"origin\" kelimesi bir atama değişkeni olduğundan farklı bir isim de kullanılabilir. Burada (url) origin değişkenine atanmıştır.\n",
    "NOT2: \"main\" kelimesi aktif branch adı olmalıdır. Hangi branch aktif ise o branchin adını yazmak gerekir. Ya da git push tan önce projeye main branchi eklenmiş olmalıdır.\n",
    "\"\"\"\n",
    "# git remote                                    # Hangi url atamasında olduğunu gösterir. Bu örnekte \"origin\" dir.\n",
    "# git push origin (yenibranch)                  # yenibranch değişikliklerini origin değişkenine(url ye) push(ittirmek-upload etmek) etmek için kullanılır.\n",
    "# git branch -r                                 # remote branchlerini gösterir.\n",
    "# git fetch origin master                       # origin url'sinden(GitHubdan) master branchini getirmek(güncellemek) için kullanılır. Merge ETMEZ.\n",
    "# git switch origin/master                      # Hata alır. Remote branchlere geçerken switch kullanılmaz. Bunun yerine checkout kullanılır.\n",
    "# git checkout origin/master                    # Remote - origin - master branchine geçmek için kullanılır.\n",
    "\n",
    "# git pull origin master                        # git fetch + git merge komutlarının birlikte kullanılmasıyla eşdeğerdir. Remote değişikliklerini lokale getirip merge etmek(birleştirmek) için kullanılır.\n",
    "# Özet olarak:\n",
    "    # git push  --> GitHub a göndermek.\n",
    "    # git fetch --> GitHub dan çekmek ama birleştirmemek.\n",
    "    # git pull  --> GitHub dan çekmek ve birleştirmek."
   ]
  },
  {
   "cell_type": "code",
   "execution_count": null,
   "metadata": {},
   "outputs": [],
   "source": [
    "# git clone (url).git                           # GitHub daki bir projeyi bilgisayarda bulunulan konuma lokal çalışma yapılabilecek şekilde indirir.\n",
    "\n",
    "# Forklamak:\n",
    "\"\"\"\n",
    "Çatallandırmak anlamına gelir. GitHub üzerinden başkasının projesini kendi GitHub hesabına kopyalamak için kullanılır.\n",
    "Kopyalandığı yer ile bir bağı klamaz. Ancak geçmişte başkasından kopyalandığı bellidir.\n",
    "\n",
    "NOT: Başkasının projesine ekleme yapmak için clone ile lokale alıp doğrudan proje sahibine push edemeyiz. Bunu yapmak için önce fork ile projeyi kendi github \n",
    "hesabımıza kopyalayıp oradan clone ile lokale alırız. Ardından eklemeleri/değişiklikleri yapıp, kendi github hesabımıza push edebiliriz. Sonra orjinal proje \n",
    "sahibine \"contribute\" edebiliriz (Pull request(PR)). Böylece yapılan değişiklikler proje sahibine öneri olarak gönderilmiş olur.\n",
    "\n",
    "\"\"\""
   ]
  },
  {
   "cell_type": "code",
   "execution_count": null,
   "metadata": {},
   "outputs": [],
   "source": [
    "# Readme.md         # md --> markdown\n",
    "# NOT: Readme markdown sayfası oluşturucular kullanılarak daha etkili readme.md sayfaları oluşturulabilir. Google>github md cheat sheet yazarsak markdown kodları çıkacaktır."
   ]
  }
 ],
 "metadata": {
  "kernelspec": {
   "display_name": "Python 3",
   "language": "python",
   "name": "python3"
  },
  "language_info": {
   "codemirror_mode": {
    "name": "ipython",
    "version": 3
   },
   "file_extension": ".py",
   "mimetype": "text/x-python",
   "name": "python",
   "nbconvert_exporter": "python",
   "pygments_lexer": "ipython3",
   "version": "3.12.3"
  }
 },
 "nbformat": 4,
 "nbformat_minor": 2
}
